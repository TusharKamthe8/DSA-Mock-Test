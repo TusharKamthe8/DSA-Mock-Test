{
 "cells": [
  {
   "cell_type": "code",
   "execution_count": 108,
   "id": "bd191724",
   "metadata": {},
   "outputs": [],
   "source": [
    "# Move Zeroes"
   ]
  },
  {
   "cell_type": "code",
   "execution_count": 28,
   "id": "ea692de9",
   "metadata": {},
   "outputs": [],
   "source": [
    "def zeros(arr):\n",
    "    count = 0\n",
    "    for i in range(len(arr)):\n",
    "        if (arr[i]==0):\n",
    "            count= count+1\n",
    "        else:\n",
    "            arr[i - count] = arr[i]\n",
    "    for i in range(len(arr)-count,len(arr)):\n",
    "        arr[i]=0\n",
    "        \n",
    "    return arr"
   ]
  },
  {
   "cell_type": "code",
   "execution_count": 97,
   "id": "2c24f8ae",
   "metadata": {},
   "outputs": [
    {
     "name": "stdout",
     "output_type": "stream",
     "text": [
      "[1, 3, 12, 0, 0]\n"
     ]
    }
   ],
   "source": [
    "s = [0,1,0,3,12]\n",
    "print(zeros(s))"
   ]
  },
  {
   "cell_type": "code",
   "execution_count": 98,
   "id": "064a8f01",
   "metadata": {},
   "outputs": [
    {
     "name": "stdout",
     "output_type": "stream",
     "text": [
      "[0]\n"
     ]
    }
   ],
   "source": [
    "s = [0]\n",
    "print(zeros(s))"
   ]
  },
  {
   "cell_type": "code",
   "execution_count": 109,
   "id": "f6b3cf0c",
   "metadata": {},
   "outputs": [],
   "source": [
    "# First Unique Character in a String"
   ]
  },
  {
   "cell_type": "code",
   "execution_count": 102,
   "id": "19c2cd51",
   "metadata": {},
   "outputs": [],
   "source": [
    "def repeat(a):\n",
    "    b = list(a)\n",
    "    c = []\n",
    "    for i in b:\n",
    "        c.append(b.count(i))\n",
    "    d = 1\n",
    "    e = [index for index, element in enumerate(c) if element == d]\n",
    "    if e:\n",
    "        return e[0]\n",
    "    else:\n",
    "        return -1\n"
   ]
  },
  {
   "cell_type": "code",
   "execution_count": 105,
   "id": "f6fa66da",
   "metadata": {},
   "outputs": [
    {
     "name": "stdout",
     "output_type": "stream",
     "text": [
      "0\n"
     ]
    }
   ],
   "source": [
    "s = \"leetcode\"\n",
    "print(repeat(s))"
   ]
  },
  {
   "cell_type": "code",
   "execution_count": 106,
   "id": "b3d4ed06",
   "metadata": {},
   "outputs": [
    {
     "name": "stdout",
     "output_type": "stream",
     "text": [
      "2\n"
     ]
    }
   ],
   "source": [
    "s = \"loveleetcode\"\n",
    "print(repeat(s))"
   ]
  },
  {
   "cell_type": "code",
   "execution_count": 107,
   "id": "94ef01f6",
   "metadata": {},
   "outputs": [
    {
     "name": "stdout",
     "output_type": "stream",
     "text": [
      "-1\n"
     ]
    }
   ],
   "source": [
    "s = \"aabb\"\n",
    "print(repeat(s))"
   ]
  },
  {
   "cell_type": "code",
   "execution_count": null,
   "id": "4e9bea5c",
   "metadata": {},
   "outputs": [],
   "source": []
  }
 ],
 "metadata": {
  "kernelspec": {
   "display_name": "Python 3 (ipykernel)",
   "language": "python",
   "name": "python3"
  },
  "language_info": {
   "codemirror_mode": {
    "name": "ipython",
    "version": 3
   },
   "file_extension": ".py",
   "mimetype": "text/x-python",
   "name": "python",
   "nbconvert_exporter": "python",
   "pygments_lexer": "ipython3",
   "version": "3.10.9"
  }
 },
 "nbformat": 4,
 "nbformat_minor": 5
}
